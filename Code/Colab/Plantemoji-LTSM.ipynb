{
  "nbformat": 4,
  "nbformat_minor": 0,
  "metadata": {
    "colab": {
      "provenance": []
    },
    "kernelspec": {
      "name": "python3",
      "display_name": "Python 3"
    },
    "language_info": {
      "name": "python"
    },
    "accelerator": "GPU",
    "gpuClass": "standard"
  },
  "cells": [
    {
      "cell_type": "code",
      "source": [
        "pip install influxdb-client"
      ],
      "metadata": {
        "id": "9H72ck1c32V1"
      },
      "execution_count": null,
      "outputs": []
    },
    {
      "cell_type": "code",
      "execution_count": 5,
      "metadata": {
        "id": "kkjalB9g3WGh"
      },
      "outputs": [],
      "source": [
        "import numpy\n",
        "import influxdb_client\n",
        "from influxdb_client.client.write_api import SYNCHRONOUS"
      ]
    },
    {
      "cell_type": "code",
      "source": [
        "bucket = \"casa-mqtt-data\"\n",
        "org = \"casa0014\"\n",
        "token = \"TOKEN\"\n",
        "# Store the URL of your InfluxDB instance\n",
        "url=\"URL\""
      ],
      "metadata": {
        "id": "qF3c8nNz3twP"
      },
      "execution_count": 6,
      "outputs": []
    },
    {
      "cell_type": "code",
      "source": [
        "client = influxdb_client.InfluxDBClient(\n",
        "   url=url,\n",
        "   token=token,\n",
        "   org=org\n",
        ")"
      ],
      "metadata": {
        "id": "4q_4abir4pUM"
      },
      "execution_count": 7,
      "outputs": []
    },
    {
      "cell_type": "code",
      "source": [
        "query_api = client.query_api()"
      ],
      "metadata": {
        "id": "ApuKaRVn40IN"
      },
      "execution_count": 8,
      "outputs": []
    },
    {
      "cell_type": "code",
      "source": [
        "query = 'from(bucket: \"casa-mqtt-data\")\\\n",
        "  |> range(start: 2023-02-01T17:00:17.741926044Z, stop: now())\\\n",
        "  |> filter(fn: (r) => r[\"_field\"] == \"value\")\\\n",
        "  |> filter(fn: (r) => r[\"host\"] == \"30f2640405ed\")\\\n",
        "  |> filter(fn: (r) => r[\"plant-topics\"] == \"student/CASA0014/plant/ucfnmyr/plantemoji/soilHumidity\")\\\n",
        " '"
      ],
      "metadata": {
        "id": "LEsGQ9YY4371"
      },
      "execution_count": 9,
      "outputs": []
    },
    {
      "cell_type": "code",
      "source": [
        "result = query_api.query(org=org, query=query)\n"
      ],
      "metadata": {
        "id": "7SGdwbEL5roV"
      },
      "execution_count": 10,
      "outputs": []
    },
    {
      "cell_type": "code",
      "source": [
        "results = []\n",
        "for table in result:\n",
        "  for record in table.records:\n",
        "    results.append((record.get_field(), record.get_value()))\n",
        "\n"
      ],
      "metadata": {
        "id": "jRqZKQ8X5_xe"
      },
      "execution_count": 12,
      "outputs": []
    },
    {
      "cell_type": "code",
      "source": [
        "a = numpy.asarray(results)\n",
        "numpy.savetxt(\"results.csv\", a, delimiter=\",\", fmt='%s')"
      ],
      "metadata": {
        "id": "B2mShbXx6MJc"
      },
      "execution_count": 13,
      "outputs": []
    }
  ]
}